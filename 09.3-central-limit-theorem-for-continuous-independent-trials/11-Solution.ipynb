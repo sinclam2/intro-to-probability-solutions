{
 "cells": [
  {
   "cell_type": "markdown",
   "metadata": {},
   "source": [
    "# The price of one share of stock in the Pilsdorff Beer Company is given by $Y_{n}$\n",
    "\n",
    "# Finn notices that $X_{n} = Y_{n+1} - Y_{n}$ appear to be independent random variables with $\\mu = 0$ and $\\sigma  =\\frac{1}{2}$\n",
    "\n",
    "# If $Y_{1} = 100$, estimate the probability that:\n",
    "\n",
    "## a) $Y_{365}\\geq100$\n",
    "\n",
    "## b) $Y_{365}\\geq110$\n",
    "\n",
    "## c) $Y_{365}\\geq120$"
   ]
  },
  {
   "cell_type": "code",
   "execution_count": 3,
   "metadata": {
    "collapsed": true
   },
   "outputs": [],
   "source": [
    "from scipy.stats import norm"
   ]
  },
  {
   "cell_type": "markdown",
   "metadata": {},
   "source": [
    "_____\n",
    "\n",
    "# First of all, we calculate the expected value and variance for $Y_{365}$\n",
    "\n",
    "# $E(X_{n}) = E(Y_{n+1}-Y_{n}) = E(Y_{n+1})-E(Y_{n})$\n",
    "\n",
    "# $E(X_{i}) = 0 \\implies E(Y_{n+1})=E(Y_{n})$\n",
    "\n",
    "# $E(Y_{1}) = E(100) = 100 \\implies E(Y_{365}) = 100$\n",
    "\n",
    "# $V(Y_{365}) = V(Y_{364} + X_{365}) = V(Y_{364}) + V(X_{365}) = V(Y_{364}) + \\sigma $\n",
    "\n",
    "# $= V(Y_{363}) + 2\\sigma = ... = 365\\sigma = \\frac{365}{4}$"
   ]
  },
  {
   "cell_type": "markdown",
   "metadata": {},
   "source": [
    "______\n",
    "\n",
    "# a)\n",
    "\n",
    "# Since $E(Y_{365}) = 100 \\implies P(Y_{365} \\geq 100) = 0.5$"
   ]
  },
  {
   "cell_type": "markdown",
   "metadata": {},
   "source": [
    "_____\n",
    "\n",
    "# b)\n",
    "\n",
    "# $\\frac{110 - 100}{\\sqrt{\\frac{365}{4}}} = 1.04685$"
   ]
  },
  {
   "cell_type": "code",
   "execution_count": 6,
   "metadata": {
    "collapsed": false
   },
   "outputs": [
    {
     "data": {
      "text/plain": [
       "0.14758438276782648"
      ]
     },
     "execution_count": 6,
     "metadata": {},
     "output_type": "execute_result"
    }
   ],
   "source": [
    "norm.cdf(-1.04685)"
   ]
  },
  {
   "cell_type": "markdown",
   "metadata": {},
   "source": [
    "# $\\implies P(Y_{365}\\geq 110) = 0.1476$"
   ]
  },
  {
   "cell_type": "markdown",
   "metadata": {},
   "source": [
    "______\n",
    "\n",
    "# c)\n",
    "\n",
    "# $\\frac{120 - 100}{\\sqrt{\\frac{365}{4}}} = 2.0937$"
   ]
  },
  {
   "cell_type": "code",
   "execution_count": 8,
   "metadata": {
    "collapsed": false
   },
   "outputs": [
    {
     "data": {
      "text/plain": [
       "0.01814335647090836"
      ]
     },
     "execution_count": 8,
     "metadata": {},
     "output_type": "execute_result"
    }
   ],
   "source": [
    "norm.cdf(-2.0937)"
   ]
  },
  {
   "cell_type": "markdown",
   "metadata": {},
   "source": [
    "# $\\implies P(Y_{365}\\geq 120) = 0.01814$"
   ]
  }
 ],
 "metadata": {
  "kernelspec": {
   "display_name": "Python 2",
   "language": "python",
   "name": "python2"
  },
  "language_info": {
   "codemirror_mode": {
    "name": "ipython",
    "version": 2
   },
   "file_extension": ".py",
   "mimetype": "text/x-python",
   "name": "python",
   "nbconvert_exporter": "python",
   "pygments_lexer": "ipython2",
   "version": "2.7.11"
  }
 },
 "nbformat": 4,
 "nbformat_minor": 0
}
