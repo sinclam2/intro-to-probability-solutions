{
 "cells": [
  {
   "cell_type": "markdown",
   "metadata": {},
   "source": [
    "# Let $X$ be a random variable with density function $f_{X}$\n",
    "\n",
    "# The *mode* of $X$ is the value $M$ for which $f_{X}(M)$ is the maximum\n",
    "\n",
    "# Find $M$ if $X$ is distributed:\n",
    "\n",
    "### a) Normally\n",
    "\n",
    "### b) Exponentially\n",
    "\n",
    "# What happens if $X$ is distributed uniformly?"
   ]
  },
  {
   "cell_type": "markdown",
   "metadata": {},
   "source": [
    "___\n",
    "\n",
    "# a)\n",
    "\n",
    "# $f_{X}(x) = \\frac{1}{\\sqrt{2\\pi\\sigma}}e^{\\frac{-(x-\\mu)^{2}}{2\\sigma^{2}}} \\implies f^{'}_{X}(x) = \\frac{xe^{-\\frac{x^{2}}{2\\sigma^{2}}}}{\\sigma^{3}\\sqrt{2\\pi}}$\n",
    "\n",
    "### Maximum when $f^{'}(x)=0 \\implies \\frac{(x-\\mu)e^{-\\frac{(x-\\mu)^{2}}{2\\sigma^{2}}}}{\\sigma^{3}\\sqrt{2\\pi}}=0 \\implies (x-\\mu)e^{-\\frac{(x-\\mu)^{2}}{2\\sigma^{2}}} = 0 \\implies x = \\mu$"
   ]
  },
  {
   "cell_type": "markdown",
   "metadata": {},
   "source": [
    "___\n",
    "\n",
    "# b)\n",
    "\n",
    "# $f_{X}(x) = \\lambda e^{-\\lambda x} \\implies f^{'}_{X}(x) = -\\lambda^{2}e^{-\\lambda x}$\n",
    "\n",
    "### Maximum when $f^{'}(x)=0 \\implies -\\lambda^{2}e^{-\\lambda x} = 0 \\implies$ DOES NOT EXIST\n",
    "\n",
    "# But since this value is negative for all $x$, we know the max val must occur at $x=0$"
   ]
  },
  {
   "cell_type": "markdown",
   "metadata": {},
   "source": [
    "___\n",
    "\n",
    "# By definition, every value for a uniformly distributed random variable is equally likely\n",
    "\n",
    "# So ANY value is the mode"
   ]
  }
 ],
 "metadata": {
  "kernelspec": {
   "display_name": "Python 2",
   "language": "python",
   "name": "python2"
  },
  "language_info": {
   "codemirror_mode": {
    "name": "ipython",
    "version": 2
   },
   "file_extension": ".py",
   "mimetype": "text/x-python",
   "name": "python",
   "nbconvert_exporter": "python",
   "pygments_lexer": "ipython2",
   "version": "2.7.11"
  }
 },
 "nbformat": 4,
 "nbformat_minor": 0
}
